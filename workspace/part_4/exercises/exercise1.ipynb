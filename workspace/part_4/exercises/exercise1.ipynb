{
 "cells": [
  {
   "cell_type": "code",
   "execution_count": 13,
   "metadata": {},
   "outputs": [
    {
     "name": "stdout",
     "output_type": "stream",
     "text": [
      "\\left[\\begin{matrix}A\\\\Q\\end{matrix}\\right]\n",
      "\\left[\\begin{matrix}Q\\\\\\frac{A_{0} G_{0} \\left(\\frac{A}{A_{0}}\\right)^{1.5}}{3 \\rho} + \\frac{Q^{2} \\alpha}{A}\\end{matrix}\\right]\n",
      "\\left[\\begin{matrix}0\\\\\\frac{Kr Q}{A}\\end{matrix}\\right]\n"
     ]
    }
   ],
   "source": [
    "import numpy as np\n",
    "import sympy as sp\n",
    "\n",
    "\n",
    "# constants\n",
    "alpha, nu, rho, Kr, G0, A0 = sp.symbols('alpha nu rho Kr G0 A0')\n",
    "# variables\n",
    "A, Q, U, S = sp.symbols('A Q U S')\n",
    "\n",
    "U = sp.Matrix([A, Q])\n",
    "F = sp.Matrix([Q, alpha*(Q**2/A) + (G0/(3*rho))*A0*(A/A0)**(3/2)])\n",
    "S = sp.Matrix([0, Kr*Q/A])\n",
    "\n",
    "# helpers\n",
    "c1, vbar = sp.symbols('c1 vbar')\n",
    "# c1 = sp.sqrt(sp.sqrt(A/A0)*(G0/(2*rho)))\n",
    "\n",
    "# print to latex\n",
    "print(sp.latex(U))\n",
    "print(sp.latex(F))\n",
    "print(sp.latex(S))"
   ]
  },
  {
   "cell_type": "markdown",
   "metadata": {},
   "source": [
    "## Validate that the System is correct\n",
    "\n",
    "$$ \\frac{\\partial U}{\\partial t} + \\frac{\\partial F(U)}{\\partial U} \\frac{\\partial U}{\\partial z} + S(U) = 0 $$\n",
    "\n",
    "### With sympy\n",
    "\n",
    "$$ \\begin{align} \n",
    "    U &= \\left[\\begin{matrix}A\\\\Q\\end{matrix} \\right] \\\\\n",
    "    \n",
    "    F(U) &= \\left[\\begin{matrix}Q\\\\\\frac{A_{0} G_{0} \\left(\\frac{A}{A_{0}}\\right)^{1.5}}{3 \\rho} + \\frac{Q^{2} \\alpha}{A}\\end{matrix}\\right]\\\\\n",
    "\n",
    "    S(U) &= \\left[\\begin{matrix}0\\\\\\frac{Kr Q}{A}\\end{matrix}\\right]\n",
    "\n",
    " \\end{align} $$ "
   ]
  },
  {
   "cell_type": "code",
   "execution_count": 14,
   "metadata": {},
   "outputs": [
    {
     "name": "stdout",
     "output_type": "stream",
     "text": [
      "\\left[\\begin{matrix}0 & 1\\\\\\frac{0.5 A_{0} G_{0} \\left(\\frac{A}{A_{0}}\\right)^{1.5}}{A \\rho} - \\frac{Q^{2} \\alpha}{A^{2}} & \\frac{2 Q \\alpha}{A}\\end{matrix}\\right]\n",
      "\\left[\\begin{matrix}0 & 1\\\\- \\alpha \\bar{v}^{2} + \\frac{0.5 A_{0} G_{0} \\left(\\frac{A}{A_{0}}\\right)^{1.5}}{A \\rho} & 2 \\alpha \\bar{v}\\end{matrix}\\right]\n",
      "\\left[\\begin{matrix}0 & 1\\\\c_{1}^{2} - \\bar{v}^{2} & 2 \\bar{v}\\end{matrix}\\right]\n"
     ]
    }
   ],
   "source": [
    "J_11 = sp.diff(F[0], A)\n",
    "J_12 = sp.diff(F[0], Q)\n",
    "J_21 = sp.diff(F[1], A)\n",
    "J_21.simplify()\n",
    "J_22 = sp.diff(F[1], Q)\n",
    "J_ = sp.Matrix([[J_11, J_12], [J_21, J_22]])\n",
    "print(sp.latex(J_))\n",
    "\n",
    "# I want to replace Q/A with vbar\n",
    "J_ = J_.subs(Q/A, vbar)\n",
    "print(sp.latex(J_))\n",
    "J_ = J_.subs(sp.sqrt(A/A0)*(G0/(2*rho)), c1)\n",
    "# print(sp.latex(J_))\n",
    "\n",
    "# Show that this is the case\n",
    "J_controll = sp.Matrix([[0, 1], [-vbar**2 + c1**2, 2*vbar]])\n",
    "\n",
    "print(sp.latex(J_controll))\n"
   ]
  },
  {
   "cell_type": "markdown",
   "metadata": {},
   "source": [
    "$$ \\begin{align}\n",
    "J &= \\left[\\begin{matrix}0 & 1\\\\\\frac{0.5 A_{0} G_{0} \\left(\\frac{A}{A_{0}}\\right)^{1.5}}{A \\rho} - \\frac{Q^{2} \\alpha}{A^{2}} & \\frac{2 Q \\alpha}{A}\\end{matrix}\\right]\\\\\n",
    "\n",
    "J &= \\left[\\begin{matrix}0 & 1\\\\- \\alpha \\bar{v}^{2} + \\frac{0.5 A_{0} G_{0} \\left(\\frac{A}{A_{0}}\\right)^{1.5}}{A \\rho} & 2 \\alpha \\bar{v}\\end{matrix}\\right]\n",
    "\\end{align}$$"
   ]
  },
  {
   "cell_type": "markdown",
   "metadata": {},
   "source": [
    "Now we can see that we can substitute $c_1^2$ and we get indeed the given Jacobian\n",
    "\n",
    "$$\\left[\\begin{matrix}0 & 1\\\\c_1^2 - \\bar{v}^{2} & 2 \\bar{v}\\end{matrix}\\right]$$"
   ]
  },
  {
   "cell_type": "code",
   "execution_count": 15,
   "metadata": {},
   "outputs": [
    {
     "name": "stdout",
     "output_type": "stream",
     "text": [
      "\\left[ c_{1} + \\bar{v}, \\  - c_{1} + \\bar{v}\\right]\n",
      "\\left[ \\left( - c_{1} + \\bar{v}, \\  1, \\  \\left[ \\left[\\begin{matrix}- \\frac{1}{c_{1} - \\bar{v}}\\\\1\\end{matrix}\\right]\\right]\\right), \\  \\left( c_{1} + \\bar{v}, \\  1, \\  \\left[ \\left[\\begin{matrix}\\frac{1}{c_{1} + \\bar{v}}\\\\1\\end{matrix}\\right]\\right]\\right)\\right]\n"
     ]
    }
   ],
   "source": [
    "# Calculate the Eigenvalues of the Jacobian\n",
    "\n",
    "J = sp.Matrix([[0, 1], [-vbar**2 + c1**2, 2*vbar]])\n",
    "\n",
    "eigs = J.eigenvals()\n",
    "eigv = J.eigenvects()\n",
    "# simplify the eigenvalues and vectors\n",
    "eigs = [sp.simplify(eig) for eig in eigs]\n",
    "eigv = [sp.simplify(eig) for eig in eigv]\n",
    "\n",
    "print(sp.latex(eigs))\n",
    "print(sp.latex(eigv))"
   ]
  },
  {
   "cell_type": "markdown",
   "metadata": {},
   "source": [
    "$$ \\lambda_{1,2} = \\left[ c_{1} + \\bar{v}, \\  - c_{1} + \\bar{v}\\right]$$\n",
    "\n",
    "## With corresponding Eigenvectors\n",
    "\n",
    "$$ [\\lambda_{1,2}, \\mathbf{l}_{1,2}] = \\left[ \\left( - c_{1} + \\bar{v}, \\  1, \\  \\left[ \\left[\\begin{matrix}- \\frac{1}{c_{1} - \\bar{v}}\\\\1\\end{matrix}\\right]\\right]\\right), \\  \\left( c_{1} + \\bar{v}, \\  1, \\  \\left[ \\left[\\begin{matrix}\\frac{1}{c_{1} + \\bar{v}}\\\\1\\end{matrix}\\right]\\right]\\right)\\right] $$"
   ]
  },
  {
   "cell_type": "markdown",
   "metadata": {},
   "source": [
    "## Exercise 1.3\n",
    "\n",
    "### $W_1$"
   ]
  },
  {
   "cell_type": "markdown",
   "metadata": {},
   "source": [
    "Im dont yet now how this is done in sympy\n",
    "\n",
    "$$ \\begin{align}\n",
    "    \\frac{\\partial W_1}{\\partial A} &= \\frac{\\bar{v} + c_1}{A} = \\frac{Q}{A^2} + A^{-\\frac{3}{4}} \\sqrt{\\frac{G_0}{2 \\rho}} A_0^{\\frac{1}{4}}\\\\\n",
    "    \\frac{\\partial W_1}{\\partial Q} &= - \\frac{1}{A}\n",
    "\\end{align} $$\n",
    "\n",
    "Which can be solved to\n",
    "\n",
    "$$ \\begin{align}\n",
    "    W_1 &= -\\frac{Q}{A} + 4\\underbrace{(\\frac{A}{A_0})^{\\frac{1}{4}} \\sqrt{\\frac{G_0}{2 \\rho}}}_{c_1} + c(Q) \\\\\n",
    "    W_1 &= - \\frac{Q}{A} + c(A)\n",
    "\\end{align} $$\n",
    "\n",
    "Which yields\n",
    "\n",
    "$$ W_1 = -\\frac{Q}{A} + 4(\\frac{A}{A_0})^{\\frac{1}{4}} \\sqrt{\\frac{G_0}{2 \\rho}} + c = -\\frac{Q}{A} + 4 c_1$$"
   ]
  },
  {
   "cell_type": "markdown",
   "metadata": {},
   "source": [
    "### Similar for $W_2$\n",
    "\n",
    "$$ \\begin{align}\n",
    "    \\frac{\\partial W_2}{\\partial A} &= -\\frac{Q}{A^2} + A^{-\\frac{3}{4}} \\sqrt{\\frac{G_0}{2 \\rho}} A_0^{\\frac{1}{4}}\\\\\n",
    "    \\frac{\\partial W_2}{\\partial Q} &= \\frac{1}{A}\n",
    "\\end{align} $$\n",
    "\n",
    "$$ \\begin{align}\n",
    "    W_2 &= \\frac{Q}{A} + 4 \\underbrace{(\\frac{A}{A_0})^{\\frac{1}{4}} \\sqrt{\\frac{G_0}{2 \\rho}}}_{c_1} + c(Q)\\\\\n",
    "    W_2 &= \\frac{Q}{A} + c(A)\n",
    "\\end{align} $$\n",
    "\n",
    "This yields\n",
    "\n",
    "$$ W_2 = \\frac{Q}{A} + \\frac{1}{4}c_1$$"
   ]
  },
  {
   "cell_type": "markdown",
   "metadata": {},
   "source": [
    "# Exercise 1.4"
   ]
  },
  {
   "cell_type": "markdown",
   "metadata": {},
   "source": [
    "Verify by filling in\n",
    "$$ \\begin{align} W_1 + W_2 &= 8 c_1 \\\\ \n",
    "\\frac{W_1 + W_2}{8 c_0} &= (\\frac{A}{A_0})^{\\frac{1}{4}}  \\\\\n",
    "A_0 \\left(\\frac{W_1 + W_2}{8 c_0}\\right)^{4} &= A|\n",
    "\\end{align} $$"
   ]
  },
  {
   "cell_type": "markdown",
   "metadata": {},
   "source": [
    "As well as\n",
    "\n",
    "$$ A - \\left(\\frac{W_2 - W_1}{2} \\right) = A\\left( \\frac{2 \\frac{Q}{A}}{2} \\right) = Q$$"
   ]
  },
  {
   "cell_type": "markdown",
   "metadata": {},
   "source": []
  }
 ],
 "metadata": {
  "kernelspec": {
   "display_name": "Python 3",
   "language": "python",
   "name": "python3"
  },
  "language_info": {
   "codemirror_mode": {
    "name": "ipython",
    "version": 3
   },
   "file_extension": ".py",
   "mimetype": "text/x-python",
   "name": "python",
   "nbconvert_exporter": "python",
   "pygments_lexer": "ipython3",
   "version": "3.11.7"
  }
 },
 "nbformat": 4,
 "nbformat_minor": 2
}

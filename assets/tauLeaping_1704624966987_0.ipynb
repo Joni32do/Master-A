{
 "cells": [
  {
   "cell_type": "markdown",
   "metadata": {},
   "source": [
    "# $\\tau$ Leaping\n",
    "\n",
    "## Wdh Stochastic Simulation Algorithmus SSA\n",
    "Samplepfade, exakte Lsg. d. Chemical Master Equation (CME)\n",
    "\n",
    "### Problem\n",
    "\n",
    "viele Moleküle- schnelle Reaktionen $\\to$ $a_{sum}$ ist groß"
   ]
  },
  {
   "cell_type": "markdown",
   "metadata": {},
   "source": [
    "## $\\tau$ - leaping\n",
    "\n",
    "Zeit wird in äquidistante Gebiete eingeteilt. Zustandsupdate bei $\\tau$ vielfachen.\n",
    "\n",
    "* Friere Propensities (W. fuer Wechsel) ein\n",
    "\n",
    "Somit \n",
    "\n",
    "$$ X(t + \\tau) = X(t) + \\sum_{j=1}^M \\nu_j \\underbrace{p_j(a_j(x(t)), \\tau)}_{\\text{num. Reaktion vom Typ j in Zeitintervall } \\tau}$$\n"
   ]
  },
  {
   "cell_type": "markdown",
   "metadata": {},
   "source": [
    "mit $\\tau$ so klein, dass s. $a_j(x)$ nicht merklich ändert raus $a_j(x(t)) konstant:\n",
    "\n",
    "W. für Reaktion $j$ in $d\\tau$ ist $a_j(x(t)) d\\tau$\n",
    "Für festes (endl.) $d\\tau$: Für jeden Schritt\n",
    "\n",
    "Bernoulli-Experiment mit $p = a_j(x(t)) d\\tau$\n",
    "\n",
    "n mal : $n = \\frac{tau}{d \\tau}$ num. Reakt. von Typ $j$\n",
    "\n",
    "Somit Verteilung Possion Verteilt:\n",
    "\n",
    "$$Bin(n,p) \\text{mit} n = \\frac{\\tau}{d \\tau}, p = a_j \\cdot d\\tau, d\\tau \\to 0: n \\to \\infty, p \\to 0$$\n",
    "\n",
    "Deshalb $np = const. = \\lambda$, hier $\\lambda = a_j(x(t)) \\cdot \\tau$\n",
    "\n",
    "$$Bin(n,p) \\overset{n\\to\\infty}{\\to} P_0(\\lambda)$$\n"
   ]
  },
  {
   "cell_type": "markdown",
   "metadata": {},
   "source": [
    "Anzahl R. von Typ j im Zeitintervall $\\tau$ ist $P_0(\\lambda = a_j(x(t))\\tau)\n",
    "\n",
    "$$ P(X=k) = e^{-\\lambda} \\frac{\\lambda^k}{k!} \\text{  verteilt} k = 0, 1, 2, ...$$\n",
    "\n"
   ]
  },
  {
   "cell_type": "markdown",
   "metadata": {},
   "source": [
    "## $\\tau$-leaping Algorithmus\n",
    "\n",
    "1. Init $\\tau, t=0, X(0), c_j, a_j(x), \\nu_j$\n",
    "2. Berechne $a_j(x(t))$\n",
    "3. Ziehe $f$ $j = 1,..., M$ ein $p_j$ aus $P_0(\\lambda_j + a_j(x(t))\\tau)$\n",
    "4. Update $x(t+\\tau)= x(t) + \\sum_{j=1}^M p_j \\nu_j, \\quad t \\to t + \\tau$\n",
    "5. Wdh. 2."
   ]
  },
  {
   "cell_type": "markdown",
   "metadata": {},
   "source": [
    "## Beispiele für $\\tau$-Leaping"
   ]
  },
  {
   "cell_type": "code",
   "execution_count": null,
   "metadata": {},
   "outputs": [],
   "source": [
    "import numpy as np\n",
    "import matplotlib.pyplot as plt\n",
    "\n",
    "np.random.poisson(1)"
   ]
  },
  {
   "cell_type": "markdown",
   "metadata": {},
   "source": [
    "$\\mathbb{E}(x) = \\lambda$\n",
    "\n",
    "$Var(x) = \\lambda$"
   ]
  },
  {
   "cell_type": "markdown",
   "metadata": {},
   "source": [
    "### Beispiel 1\n",
    "\n",
    "$A \\to \\empty$\n",
    "1. $\\tau, t=0, X(0) = 10.000, a(x) = cx, \\nu = -1$\n",
    "2. Ziehe $p$ aus P_0(a(x(t))\\tau)\n",
    "3. Update $x(t + \\tau) = x(t) - p, \\quad t \\to t + \\tau$\n",
    "4. "
   ]
  },
  {
   "cell_type": "code",
   "execution_count": null,
   "metadata": {},
   "outputs": [],
   "source": [
    "tau = 1\n",
    "t = 0\n",
    "t_end = 10\n",
    "steps = np.ceil((t_end - t)/tau)\n",
    "\n",
    "\n",
    "x_0 = 10000\n",
    "x = np.zeros((steps,))\n",
    "\n",
    "c = 1\n",
    "a = lambda x: c*x\n",
    "nu = -1\n",
    "\n",
    "\n",
    "for i in range(steps):\n",
    "    p = np.random.poisson(a(x[i]))\n",
    "    x[i+1] = x[i] - p\n",
    "    t = t + tau\n",
    "\n",
    "plt.plot(x)"
   ]
  },
  {
   "cell_type": "markdown",
   "metadata": {},
   "source": [
    "### Beispiel 2\n",
    "\n",
    "$$ A \\overset{c_1}{\\underset{c_2}{\\leftrightarrow}} B$$"
   ]
  }
 ],
 "metadata": {
  "kernelspec": {
   "display_name": "Python 3",
   "language": "python",
   "name": "python3"
  },
  "language_info": {
   "name": "python",
   "version": "3.11.7"
  }
 },
 "nbformat": 4,
 "nbformat_minor": 2
}

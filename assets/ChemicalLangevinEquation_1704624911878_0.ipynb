{
 "cells": [
  {
   "cell_type": "markdown",
   "metadata": {},
   "source": [
    "## Chemical Langevin Equation\n",
    "\n",
    "$$ \\begin{align} dy(t) = \\sum_{j=1}^M \\nu_j a_j(y(t)) dt + \\sum_{j=1}^M \\nu_j \\sqrt{a_j(y(t))} dW_j(t)  \\end{align} $$\n",
    "\n",
    "### Idee\n",
    "\n",
    "Approximiere die $\\tau$-Leaping Methode und das Ziehen aus einer Bernoulli/Poisson Verteilung mithilfe von einer Normalverteilung (Zentraler Grenzwertsatz)  \n",
    "\n",
    "### Algorithmus\n",
    "\n",
    "1. Init $\\tau$, $t$, $x_0$, $a_j(x)$, $\\nu_j$\n",
    "2. Berechne $a_j(x)$\n",
    "3. Ziehe $n_j \\sim \\mathcal{N}(a_j(x(t)), a_j(x(t)))$\n",
    "4. Update $y(t+\\tau)=y(t) + \\sum_{j=1}^M \\nu_j \\cdot n_j$"
   ]
  },
  {
   "cell_type": "markdown",
   "metadata": {},
   "source": []
  },
  {
   "cell_type": "markdown",
   "metadata": {},
   "source": [
    "## Reaktionsratengleichung RRE"
   ]
  },
  {
   "cell_type": "markdown",
   "metadata": {},
   "source": [
    "### thermodynamisches Limit\n",
    "\n",
    "Vergößere Volumen und Anzahl der Teilchen (Copy-Paste kleines System zu größeren System)\n",
    "\n",
    "Annahme:\n",
    "\n",
    "$$ \\sqrt{a_j(y(t))} << a_j(y(t))$$"
   ]
  },
  {
   "cell_type": "markdown",
   "metadata": {},
   "source": [
    "Approximation:\n",
    "\n",
    "Vernachlässige 2. Term in Zeit-diskret CLE\n",
    "\n",
    "$$ \\begin{align} y(t+\\tau) &= y(t) + \\tau \\sum_{j=1}^M y_j a_j(y(t)) \\\\\n",
    "\\lim_{\\tau \\to 0} \\frac{y(t+\\tau) - y(t)}{\\tau} &= \\sum_{j=1}^M \\nu_j a_j(y(t)) \\\\ \n",
    "\\frac{dy}{dt} &= \\sum_{j=1}^M \\nu_j a_j(y(t)) \\end{align} $$"
   ]
  },
  {
   "cell_type": "markdown",
   "metadata": {},
   "source": [
    "Dimension ist Anzahl d. Molekültypen\n",
    "\n",
    "i.A. nichtlinear"
   ]
  },
  {
   "cell_type": "markdown",
   "metadata": {},
   "source": [
    "Anzahl Mol -> Konzentation mit Einheit z.B. mol/l\n",
    "\n",
    "* erfordert Umrechnung der Reaktionsgeschw. a_j -> \\nu_j\n",
    "* hängt von R. Ordnung ab\n",
    "\n",
    "Kennzeichnung durch $c_j \\to k_j$"
   ]
  },
  {
   "cell_type": "markdown",
   "metadata": {},
   "source": [
    "### Beispiel 1\n",
    "\n",
    "$$A \\overset{k}{\\to} \\empty$$\n",
    "\n",
    "#### RRE\n",
    "$$ \\frac{dy}{dt} = -k y $$ \n",
    "\n",
    "Mit $\\nu_j(y) = k\\cdot y$"
   ]
  },
  {
   "cell_type": "markdown",
   "metadata": {},
   "source": [
    "Lösung für $y_0$\n",
    "\n",
    "$$y(t) = e^{-kt} y_0$$"
   ]
  },
  {
   "cell_type": "markdown",
   "metadata": {},
   "source": [
    "### Beispiel 2\n",
    "\n",
    "$$ A \\overset{c_1}{\\underset{c_2}{\\leftrightarrow}} B$$\n",
    "\n",
    "$$ \\begin{align} v_1(y) &= k_1 y_A \\\\\n",
    "v_2(y) &= k_2 y_b \\end{align} $$\n",
    "\n",
    "$$ \\begin{align} \\frac{\\mathrm{d}y_A}{\\mathrm{d} t} &= -v_1(y) + v_2(y) = -k_1 y_A + k_2 y_B \\\\ \\frac{\\mathrm{d}y_B}{\\mathrm{d} t} &= v_1(y) - v_2(y) = k_1 y_A - k_2 y_B \\end{align} $$"
   ]
  },
  {
   "cell_type": "markdown",
   "metadata": {},
   "source": [
    "Im GG: $$\\frac{\\bar{y_A}}{\\bar{y_B}} = \\frac{k_2}{k_1}$$"
   ]
  },
  {
   "cell_type": "markdown",
   "metadata": {},
   "source": [
    "- ### Beispiel 3 - Michaelis Mentens\n",
    "- $$\\mathrm E + \\mathrm S\\,\\underset{k_1'}{\\overset{k_1}{\\rightleftharpoons}}\\,\\mathrm{ES}\\,\\overset{k_2}{\\rightarrow}\\,\\mathrm P + \\mathrm E $$\n",
    "\n",
    "$$ \\begin{align} v_1(y) &= k_1 y_1 y_2 \\\\\n",
    "v_2(y) &= k_2 y_3 \\\\ v_3(y) = k_3 y \\end{align} $$\n",
    "\n",
    "$$ \\begin{align} \n",
    "\\frac{\\mathrm{d}y_1}{\\mathrm{d} t} &= -k_1 y_1(t) y_2(t) + k_2 y_3(t) \\\\ \n",
    "\\frac{\\mathrm{d}y_2}{\\mathrm{d} t} &= -k_1 y_1(t) y_2(t) + (k_2+k_3) y_3(t) \\\\\n",
    "\\frac{\\mathrm{d}y_3}{\\mathrm{d} t} &= k_1 y_1(t) y_2(t) - (k_2+k_3) y_3(t) \\\\\n",
    "\\frac{\\mathrm{d}y_4}{\\mathrm{d} t} &= k_3 y_3(t)\n",
    " \\end{align} $$"
   ]
  },
  {
   "cell_type": "markdown",
   "metadata": {},
   "source": [
    "$$ y_0 = \\begin{pmatrix} s_0 \\\\ e_0 \\\\ 0 \\\\ 0 \\end{pmatrix} $$"
   ]
  },
  {
   "cell_type": "markdown",
   "metadata": {},
   "source": [
    "![Zeichnung aus VL](attachment:image.png)"
   ]
  },
  {
   "cell_type": "markdown",
   "metadata": {},
   "source": []
  }
 ],
 "metadata": {
  "language_info": {
   "name": "python"
  }
 },
 "nbformat": 4,
 "nbformat_minor": 2
}
